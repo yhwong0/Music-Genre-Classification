{
 "nbformat": 4,
 "nbformat_minor": 0,
 "metadata": {
  "colab": {
   "provenance": []
  },
  "kernelspec": {
   "name": "python3",
   "display_name": "Python 3"
  },
  "language_info": {
   "name": "python"
  }
 },
 "cells": [
  {
   "cell_type": "markdown",
   "source": [
    "#Music Genre Classification - small course project/Lab\n"
   ],
   "metadata": {
    "id": "Rzc-Lc-DQfwz"
   }
  },
  {
   "cell_type": "code",
   "source": [
    "# Step 1: Load necessary libraries\n",
    "# librosa, numpy, pandas, sklearn, etc.\n",
    "import librosa\n",
    "import numpy as np\n",
    "import pandas as pd\n",
    "import sklearn\n",
    "import os\n"
   ],
   "metadata": {
    "id": "5RHvG47jzfo3"
   },
   "execution_count": null,
   "outputs": []
  },
  {
   "cell_type": "code",
   "source": [
    "from google.colab import drive\n",
    "drive.mount('/content/drive')"
   ],
   "metadata": {
    "colab": {
     "base_uri": "https://localhost:8080/"
    },
    "id": "mWiPQUmGzVpf",
    "outputId": "8c9e520d-45ed-4e5a-ba63-d5f9c030f81a"
   },
   "execution_count": null,
   "outputs": [
    {
     "output_type": "stream",
     "name": "stdout",
     "text": [
      "Mounted at /content/drive\n"
     ]
    }
   ]
  },
  {
   "cell_type": "code",
   "execution_count": null,
   "metadata": {
    "id": "QxEfjdTgvHDS"
   },
   "outputs": [],
   "source": [
    "# Step 2: Define a function to extract music features\n",
    "# You may consider MFCC, Chroma STFT, Spectral Contrast, Zero Crossing Rate, Tempo, etc\n",
    "# Be sure to have the feature dimension as large as possible, to get higher performance\n",
    "# librosa.feature and librosa.beat may contain many useful functions\n",
    "def extract_features(fname,file_dir):\n",
    "  y, sr = librosa.load(file_dir)\n",
    "\n",
    "  mfcc = librosa.feature.mfcc(y=y, sr=sr)\n",
    "  mfcc_mean=np.mean(mfcc)\n",
    "  mfcc_var=np.var(mfcc)\n",
    "\n",
    "  chroma_stft = librosa.feature.chroma_stft(y=y, sr=sr)\n",
    "  chroma_stft_mean=np.mean(chroma_stft)\n",
    "  chroma_stft_var=np.var(chroma_stft)\n",
    "\n",
    "  spectral_contrast = librosa.feature.spectral_contrast(S=np.abs(librosa.stft(y)), sr=sr)\n",
    "  spectral_contrast_mean =np.mean(spectral_contrast)\n",
    "  spectral_contrast_var=np.var(spectral_contrast)\n",
    "\n",
    "\n",
    "  zero_crossing_rate=librosa.feature.zero_crossing_rate(y)\n",
    "  zero_crossing_rate_mean=np.mean(zero_crossing_rate)\n",
    "  zero_crossing_rate_var=np.var(zero_crossing_rate)\n",
    "\n",
    "  tempo,beats=librosa.beat.beat_track(y=y, sr=sr)\n",
    "\n",
    "  #new features\n",
    "  chroma_cqt=librosa.feature.chroma_cqt(y=y, sr=sr)\n",
    "  chroma_cqt_mean=np.mean(chroma_cqt)\n",
    "  chroma_cqt_var=np.var(chroma_cqt)\n",
    "\n",
    "  spectral_centroid=librosa.feature.spectral_centroid(y=y, sr=sr)\n",
    "  spectral_centroid_mean=np.mean(spectral_centroid)\n",
    "  spectral_centroid_var=np.var(spectral_centroid)\n",
    "\n",
    "  rms=librosa.feature.rms(y=y)\n",
    "  rms_mean=np.mean(rms)\n",
    "  rms_var=np.var(rms)\n",
    "  #for i in range(20):\n",
    "\n",
    "  print(librosa.feature.mfcc(y=y, sr=sr)[0].shape) #0-19\n",
    "\n",
    "\n",
    "  ret_list=[fname,mfcc_mean,mfcc_var,chroma_stft_mean,chroma_stft_var,spectral_contrast_mean,spectral_contrast_var,zero_crossing_rate_mean,zero_crossing_rate_var,tempo,chroma_cqt_mean,chroma_cqt_var,rms_mean,rms_var]\n",
    "\n",
    "  return ret_list\n",
    "def extract_mfcc(fname,file_dir):\n",
    "  y, sr = librosa.load(file_dir)\n",
    "  mfcc = librosa.feature.mfcc(y=y, sr=sr)\n",
    "  ret_list=[]\n",
    "  for i in range(20):\n",
    "    ret_list.append(np.mean(mfcc[i]))\n",
    "    ret_list.append(np.var(mfcc[i]))\n",
    "  return ret_list\n"
   ]
  },
  {
   "cell_type": "code",
   "source": [
    "# Step 3: Iterate through each genre folder and extract features for each song\n",
    "# Remember to mount Google Drive before accessing the dataset\n",
    "# Useful python funtions: os.listdir, pandas.DataFrame\n",
    "styles=os.listdir(\"./drive/MyDrive/GTZAN/genres/\")\n",
    "dataset=[\"genres\",\"images\"]\n",
    "\n",
    "#os.mkdir(\"./drive/MyDrive/extracted_features_AIST3110_Lab_7\")\n",
    "#result=pd.dataframe([],columns=[\"filename\",\"mfcc_mean\",\"mfcc_var\",\"chroma_stft_mean\",\"chroma_stft_var\",\"spectral_contrast_mean\",\"spectral_contrast_var\",\"zero_crossing_rate_mean\",\"zero_crossing_rate_var\",\"tempo,chroma_cqt_mean\",\"chroma_cqt_var\",\"rms_mean\",\"rms_var\"])\n",
    "features_list=[]\n",
    "for i in range (1):\n",
    "  len_styles=len(styles)\n",
    "  for j in range(len_styles):\n",
    "    print(styles[j])\n",
    "    for files in (os.listdir(\"./drive/MyDrive/GTZAN/\"+dataset[i]+\"/\"+styles[j]+\"/\")):\n",
    "      dir=\"./drive/MyDrive/GTZAN/\"+dataset[i]+\"/\"+styles[j]+\"/\"+files\n",
    "      #print(files) #str\n",
    "      if(dataset[i]==\"genres\"):\n",
    "        feature_row=extract_mfcc(files,dir)\n",
    "        features_list.append(feature_row)\n",
    "        #print(features_list)\n",
    "\n",
    "col_list=[]\n",
    "for i in range(20):\n",
    "    col_list.append(\"mean_mfcc\"+str([i]))\n",
    "    col_list.append(\"var_mfcc\"+str([i]))\n",
    "df=pd.DataFrame(features_list,columns=col_list)\n",
    "df.to_csv(\"./drive/MyDrive/extracted_features_AIST3110_Lab_7/mfcc.csv\")\n"
   ],
   "metadata": {
    "id": "kw5MsX6bvKXQ",
    "colab": {
     "base_uri": "https://localhost:8080/"
    },
    "outputId": "51f50f0d-a2d5-4899-8006-9577d8014c08"
   },
   "execution_count": null,
   "outputs": [
    {
     "output_type": "stream",
     "name": "stdout",
     "text": [
      "blues\n",
      "classical\n",
      "country\n",
      "disco\n",
      "hiphop\n",
      "metal\n",
      "pop\n",
      "reggae\n",
      "rock\n",
      "jazz\n"
     ]
    }
   ]
  },
  {
   "cell_type": "code",
   "source": [
    "#add mfcc features frame by frame to improve accuracy\n",
    "styles=os.listdir(\"./drive/MyDrive/GTZAN/genres/\")\n",
    "dataset=[\"genres\",\"images\"]\n",
    "\n",
    "\n",
    "features_list=[]\n",
    "for i in range (1):\n",
    "  len_styles=len(styles)\n",
    "  for j in range(len_styles):\n",
    "    print(styles[j])\n",
    "    for files in (os.listdir(\"./drive/MyDrive/GTZAN/\"+dataset[i]+\"/\"+styles[j]+\"/\")):\n",
    "      dir=\"./drive/MyDrive/GTZAN/\"+dataset[i]+\"/\"+styles[j]+\"/\"+files\n",
    "      #print(files) #str\n",
    "      if(dataset[i]==\"genres\"):\n",
    "        feature_row=extract_features(files,dir)\n",
    "        features_list.append(feature_row)\n",
    "        #print(features_list)\n",
    "\n",
    "\n",
    "df=pd.DataFrame(features_list,columns=[\"filename\",\"mfcc_mean\",\"mfcc_var\",\"chroma_stft_mean\",\"chroma_stft_var\",\"spectral_contrast_mean\",\"spectral_contrast_var\",\"zero_crossing_rate_mean\",\"zero_crossing_rate_var\",\"tempo\",\"chroma_cqt_mean\",\"chroma_cqt_var\",\"rms_mean\",\"rms_var\",\"mfcc\"])\n",
    "df.to_csv(\"./drive/MyDrive/extracted_features_AIST3110_Lab_7/features.csv\")\n"
   ],
   "metadata": {
    "id": "k628LP9c5A1G"
   },
   "execution_count": null,
   "outputs": []
  },
  {
   "cell_type": "code",
   "source": [
    "# Step 4: Split the dataset into training and testing sets\n",
    "# sklearn.model_selection has useful train_test_split function\n",
    "# Use test_size=0.2, random_state=42\n",
    "# Remember to normalize features using one of the scalers in sklearn.preprocessing\n",
    "from sklearn.model_selection import train_test_split\n",
    "from sklearn import preprocessing\n",
    "df=pd.read_csv(\"./drive/MyDrive/extracted_features_AIST3110_Lab_7/features.csv\")\n",
    "#train_test_split(test_size=0.2, random_state=42\n",
    "\n",
    "fname_list=df['filename'].tolist()\n",
    "genre_tag=[items[0:-10] for items in fname_list]\n",
    "df=df.drop(columns=['filename'])\n",
    "df=df.drop(columns=[\"Unnamed: 0\"])\n",
    "\n",
    "print(df)\n",
    "df_temp=pd.read_csv(\"./drive/MyDrive/extracted_features_AIST3110_Lab_7/mfcc.csv\")\n",
    "result = pd.concat([df, df_temp], axis=1)\n",
    "print(result)\n",
    "result=result.drop(columns=[\"Unnamed: 0\"])\n",
    "result.to_csv(\"./drive/MyDrive/extracted_features_AIST3110_Lab_7/combined.csv\")\n",
    "\n",
    "X=result.to_numpy(dtype= float)\n",
    "\n",
    "\n",
    "encoder= preprocessing.LabelEncoder()\n",
    "y=encoder.fit_transform(genre_tag)\n",
    "\n",
    "#normalize features\n",
    "scaler = preprocessing.MinMaxScaler()\n",
    "X_scaled = scaler.fit_transform(X)\n",
    "print(X_scaled[0])\n",
    "\n",
    "X_train, X_test, y_train, y_test = train_test_split(X_scaled,y,test_size=0.2, random_state=42)\n",
    "print(y_train.shape)\n"
   ],
   "metadata": {
    "id": "DV1cqZUjzo95",
    "colab": {
     "base_uri": "https://localhost:8080/"
    },
    "outputId": "cdbba048-a499-43f9-9099-3edebc55b42b"
   },
   "execution_count": null,
   "outputs": [
    {
     "output_type": "stream",
     "name": "stdout",
     "text": [
      "     mfcc_mean   mfcc_var  chroma_stft_mean  chroma_stft_var  \\\n",
      "0    -8.460349  2631.7998          0.308526         0.087843   \n",
      "1    -7.859532  3572.0220          0.291426         0.093985   \n",
      "2     1.936639  1767.5433          0.350129         0.088772   \n",
      "3    -0.057255  3606.4392          0.340849         0.094976   \n",
      "4    -7.101466  3047.7520          0.302522         0.087551   \n",
      "..         ...        ...               ...              ...   \n",
      "995  -1.379827  2524.9707          0.290969         0.095819   \n",
      "996 -10.165450  9576.3300          0.224085         0.091022   \n",
      "997  -6.185657  5898.6816          0.295943         0.096363   \n",
      "998  -2.911151  3404.3070          0.327828         0.091114   \n",
      "999   0.895715  1585.3896          0.278350         0.083777   \n",
      "\n",
      "     spectral_contrast_mean  spectral_contrast_var  zero_crossing_rate_mean  \\\n",
      "0                 21.459618              63.033892                 0.101461   \n",
      "1                 23.421150              49.579017                 0.073052   \n",
      "2                 20.523289              76.801191                 0.083045   \n",
      "3                 20.672486              67.861845                 0.056040   \n",
      "4                 22.542616              66.883550                 0.094042   \n",
      "..                      ...                    ...                      ...   \n",
      "995               20.073720              23.717942                 0.069027   \n",
      "996               22.483817              38.864843                 0.039908   \n",
      "997               22.876533              45.054298                 0.046179   \n",
      "998               22.826485              60.454570                 0.058131   \n",
      "999               19.728681              16.882637                 0.064827   \n",
      "\n",
      "     zero_crossing_rate_var       tempo  chroma_cqt_mean  chroma_cqt_var  \\\n",
      "0                  0.001954  135.999178         0.497005        0.066045   \n",
      "1                  0.001909   71.777344         0.377112        0.084765   \n",
      "2                  0.000767  123.046875         0.537825        0.053587   \n",
      "3                  0.001448   67.999589         0.476772        0.057725   \n",
      "4                  0.006233   69.837416         0.397246        0.072561   \n",
      "..                      ...         ...              ...             ...   \n",
      "995                0.001047  129.199219         0.385014        0.077325   \n",
      "996                0.000475   86.132812         0.243521        0.084956   \n",
      "997                0.000538  135.999178         0.381610        0.078375   \n",
      "998                0.001241   80.749512         0.380551        0.073200   \n",
      "999                0.000617  161.499023         0.358288        0.077835   \n",
      "\n",
      "     rms_mean   rms_var  \n",
      "0    0.091501  0.002305  \n",
      "1    0.141752  0.008782  \n",
      "2    0.130184  0.002828  \n",
      "3    0.095908  0.002373  \n",
      "4    0.103453  0.003981  \n",
      "..        ...       ...  \n",
      "995  0.091520  0.001502  \n",
      "996  0.021177  0.000184  \n",
      "997  0.039255  0.000423  \n",
      "998  0.060134  0.000455  \n",
      "999  0.162285  0.002734  \n",
      "\n",
      "[1000 rows x 13 columns]\n",
      "     mfcc_mean   mfcc_var  chroma_stft_mean  chroma_stft_var  \\\n",
      "0    -8.460349  2631.7998          0.308526         0.087843   \n",
      "1    -7.859532  3572.0220          0.291426         0.093985   \n",
      "2     1.936639  1767.5433          0.350129         0.088772   \n",
      "3    -0.057255  3606.4392          0.340849         0.094976   \n",
      "4    -7.101466  3047.7520          0.302522         0.087551   \n",
      "..         ...        ...               ...              ...   \n",
      "995  -1.379827  2524.9707          0.290969         0.095819   \n",
      "996 -10.165450  9576.3300          0.224085         0.091022   \n",
      "997  -6.185657  5898.6816          0.295943         0.096363   \n",
      "998  -2.911151  3404.3070          0.327828         0.091114   \n",
      "999   0.895715  1585.3896          0.278350         0.083777   \n",
      "\n",
      "     spectral_contrast_mean  spectral_contrast_var  zero_crossing_rate_mean  \\\n",
      "0                 21.459618              63.033892                 0.101461   \n",
      "1                 23.421150              49.579017                 0.073052   \n",
      "2                 20.523289              76.801191                 0.083045   \n",
      "3                 20.672486              67.861845                 0.056040   \n",
      "4                 22.542616              66.883550                 0.094042   \n",
      "..                      ...                    ...                      ...   \n",
      "995               20.073720              23.717942                 0.069027   \n",
      "996               22.483817              38.864843                 0.039908   \n",
      "997               22.876533              45.054298                 0.046179   \n",
      "998               22.826485              60.454570                 0.058131   \n",
      "999               19.728681              16.882637                 0.064827   \n",
      "\n",
      "     zero_crossing_rate_var       tempo  chroma_cqt_mean  ...  mean_mfcc[15]  \\\n",
      "0                  0.001954  135.999178         0.497005  ...      -4.515863   \n",
      "1                  0.001909   71.777344         0.377112  ...     -10.072228   \n",
      "2                  0.000767  123.046875         0.537825  ...       0.751706   \n",
      "3                  0.001448   67.999589         0.476772  ...       0.929294   \n",
      "4                  0.006233   69.837416         0.397246  ...      -5.574562   \n",
      "..                      ...         ...              ...  ...            ...   \n",
      "995                0.001047  129.199219         0.385014  ...      -1.340619   \n",
      "996                0.000475   86.132812         0.243521  ...       6.601327   \n",
      "997                0.000538  135.999178         0.381610  ...       3.349450   \n",
      "998                0.001241   80.749512         0.380551  ...       2.674866   \n",
      "999                0.000617  161.499023         0.358288  ...      -0.880157   \n",
      "\n",
      "     var_mfcc[15]  mean_mfcc[16]  var_mfcc[16]  mean_mfcc[17]  var_mfcc[17]  \\\n",
      "0       85.995190      -5.451786     75.276740      -0.915952     53.633236   \n",
      "1       83.254550     -10.918623     56.950497      -6.965243     38.267097   \n",
      "2       52.424540      -1.687854     36.535866      -0.408730     41.603170   \n",
      "3       55.337963      -0.728403     60.231407       0.296872     48.133217   \n",
      "4       72.576744      -1.839314     68.666120      -2.789317     42.470524   \n",
      "..            ...            ...           ...            ...           ...   \n",
      "995     89.900500       1.155647     58.085200       2.675897     70.244705   \n",
      "996    170.704560       7.957295    170.919400       5.068819    135.955690   \n",
      "997     74.813650      -2.109617     88.612144      -1.243306     92.200020   \n",
      "998     36.049946      -6.210208     33.525480       0.865693     40.679460   \n",
      "999     44.334812      -5.277622     56.535620      -1.615725     60.792698   \n",
      "\n",
      "     mean_mfcc[18]  var_mfcc[18]  mean_mfcc[19]  var_mfcc[19]  \n",
      "0        -4.408018     62.882492     -11.704385     55.190254  \n",
      "1        -3.439432     48.163643      -6.484499     70.213450  \n",
      "2        -2.302677     55.053654       1.222467     46.941353  \n",
      "3        -0.282430     51.106014       0.530644     45.788700  \n",
      "4        -3.047805     39.803387      -8.109732     46.282936  \n",
      "..             ...           ...            ...           ...  \n",
      "995       3.225018    130.200360      -3.007421    137.061260  \n",
      "996       1.604195    110.015660      -4.376445    103.394020  \n",
      "997       1.786999     78.626816      -2.229356     88.026610  \n",
      "998      -3.401289     57.168420      -0.386762     62.487602  \n",
      "999      -2.933980     52.402107      -1.417736    100.981710  \n",
      "\n",
      "[1000 rows x 54 columns]\n",
      "[0.42278584 0.14440743 0.27784034 0.68159521 0.55193711 0.44063843\n",
      " 0.31535343 0.06661145 0.43859649 0.53093939 0.57657296 0.21971796\n",
      " 0.08306839 0.65932587 0.17891788 0.65630254 0.19314233 0.37050799\n",
      " 0.103337   0.41119943 0.1836359  0.09152778 0.29108172 0.53350366\n",
      " 0.23274334 0.17515988 0.1716482  0.34369797 0.28229074 0.39087615\n",
      " 0.35513245 0.33745176 0.24078583 0.32915796 0.10346644 0.33461787\n",
      " 0.2450772  0.50747042 0.26576074 0.16416614 0.11796371 0.28005422\n",
      " 0.15848738 0.38334259 0.20008711 0.41052824 0.15662516 0.40419345\n",
      " 0.12045916 0.424544   0.1301863  0.23303948 0.0949349 ]\n",
      "(800,)\n"
     ]
    }
   ]
  },
  {
   "cell_type": "code",
   "source": [
    "# Step 5: Train and evaluate the model using sklearn\n",
    "# You can replace RandomForestClassifier with other classifiers if needed\n",
    "# classifier.fit trains the model\n",
    "# classifier.predict make predictions\n",
    "# sklearn has confusion_matrix, classification_report, accuracy_score, etc for evaluation\n",
    "# Remember to save the extracted features for future\n",
    "\n",
    "import pickle\n",
    "from sklearn.ensemble import RandomForestClassifier\n",
    "from sklearn import metrics\n",
    "classifier = RandomForestClassifier(n_estimators=1000, max_depth=100)\n",
    "#try to increase accuracy but failed\n",
    "#classifier = RandomForestClassifier(n_estimators=10000, max_depth=100)\n",
    "#classifier = RandomForestClassifier(n_estimators=10000, max_depth=1000)\n",
    "classifier.fit(X_train,y_train)\n",
    "\n",
    "\n",
    "pickle.dump(classifier, open(\"./drive/MyDrive/extracted_features_AIST3110_Lab_7/trained_model_combined_mfcc.pickle\", \"wb\"))\n",
    "y_pred = classifier.predict(X_test)\n",
    "\n",
    "# using metrics module for accuracy calculation\n",
    "print(\"Accuuracy score(train): \", metrics.accuracy_score(y_train, classifier.predict(X_train)))\n",
    "print(\"Accuuracy score: \", metrics.accuracy_score(y_test, y_pred))\n",
    "print(\"confusion_matrix\\n\",metrics.confusion_matrix(y_test,y_pred))\n",
    "print(\"classification_report\\n\",metrics.classification_report(y_test,y_pred,target_names =os.listdir(\"./drive/MyDrive/GTZAN/genres/\")))\n"
   ],
   "metadata": {
    "id": "Z9fMj51zzq4Z",
    "colab": {
     "base_uri": "https://localhost:8080/"
    },
    "outputId": "0c5ca3a1-0a18-496d-9881-089771c13d2b"
   },
   "execution_count": null,
   "outputs": [
    {
     "output_type": "stream",
     "name": "stdout",
     "text": [
      "Accuuracy score(train):  0.99875\n",
      "Accuuracy score:  0.675\n",
      "confusion_matrix\n",
      " [[11  0  0  3  0  0  2  0  1  3]\n",
      " [ 0 13  0  0  0  0  0  0  0  0]\n",
      " [ 2  0 18  1  0  1  1  0  1  3]\n",
      " [ 0  0  0 10  4  0  0  4  2  1]\n",
      " [ 0  0  0  1  8  0  1  0  4  1]\n",
      " [ 0  2  0  0  0 18  0  0  1  0]\n",
      " [ 0  0  0  0  0  0 20  0  0  2]\n",
      " [ 1  1  2  0  2  1  0 18  0  0]\n",
      " [ 0  1  2  0  1  0  0  0  9  0]\n",
      " [ 1  0  5  0  0  0  3  3  1 10]]\n",
      "classification_report\n",
      "               precision    recall  f1-score   support\n",
      "\n",
      "       blues       0.73      0.55      0.63        20\n",
      "   classical       0.76      1.00      0.87        13\n",
      "     country       0.67      0.67      0.67        27\n",
      "       disco       0.67      0.48      0.56        21\n",
      "      hiphop       0.53      0.53      0.53        15\n",
      "       metal       0.90      0.86      0.88        21\n",
      "         pop       0.74      0.91      0.82        22\n",
      "      reggae       0.72      0.72      0.72        25\n",
      "        rock       0.47      0.69      0.56        13\n",
      "        jazz       0.50      0.43      0.47        23\n",
      "\n",
      "    accuracy                           0.68       200\n",
      "   macro avg       0.67      0.68      0.67       200\n",
      "weighted avg       0.68      0.68      0.67       200\n"
     ]
    }
   ]
  },
  {
   "cell_type": "code",
   "source": [
    "# Step 6: Plot feature importance\n",
    "# Get feature importance through classifier.feature_importances_\n",
    "# Plot with matplotlib.pyplot library\n",
    "import matplotlib.pyplot as plt\n",
    "\n",
    "\n",
    "#referenced from scikitleatn website\n",
    "feature_importance= pd.Series(classifier.feature_importances_, index=[\"filename\",\"mfcc_mean\",\"mfcc_var\",\"chroma_stft_mean\",\"chroma_stft_var\",\"spectral_contrast_mean\",\"spectral_contrast_var\",\"zero_crossing_rate_mean\",\"zero_crossing_rate_var\",\"tempo,chroma_cqt_mean\",\"chroma_cqt_var\",\"rms_mean\",\"rms_var\"])\n",
    "\n",
    "fig, ax = plt.subplots()\n",
    "feature_importance.plot.bar(yerr=np.std([tree.feature_importances_ for tree in classifier.estimators_], axis=0), ax=ax)\n",
    "ax.set_title(\"Feature importances using MDI\")\n",
    "ax.set_ylabel(\"Mean decrease in impurity\")\n",
    "fig.tight_layout()\n"
   ],
   "metadata": {
    "id": "R7Ugs8AM3R0m",
    "colab": {
     "base_uri": "https://localhost:8080/",
     "height": 487
    },
    "outputId": "b8960f90-7570-4d93-cb5a-0b8488ee2b8d"
   },
   "execution_count": null,
   "outputs": [
    {
     "output_type": "display_data",
     "data": {
      "text/plain": [
       "<Figure size 640x480 with 1 Axes>"
      ],
      "image/png": "[encoded data removed]"
     },
     "metadata": {}
    }
   ]
  },
  {
   "cell_type": "code",
   "source": [
    "# Step 7: Retrieve similar songs and different songs\n",
    "# IPython.display shows the song\n",
    "# Remember to normalize your features!\n",
    "# preprocessing.scale could be useful\n",
    "import scipy.spatial.distance\n",
    "import IPython.display as ipd\n",
    "from sklearn import preprocessing\n",
    "import librosa.display\n",
    "\n",
    "def retrive_similar_or_different_songs(fname,file_dir,param=\"similar\"):\n",
    "  feature_list=extract_features(fname,file_dir)\n",
    "  mfcc=extract_mfcc(fname,file_dir)\n",
    "  feature_list=feature_list[1:]+mfcc\n",
    "\n",
    "\n",
    "  norm_features = preprocessing.scale(feature_list)\n",
    "  result_dist=[]\n",
    "  file_dir=[]\n",
    "  for i in range(1000):\n",
    "    norm_x=preprocessing.scale(X[i])\n",
    "    Y = scipy.spatial.distance.euclidean(norm_features, norm_x)\n",
    "    result_dist.append(Y)\n",
    "  df1=pd.read_csv(\"./drive/MyDrive/extracted_features_AIST3110_Lab_7/features_new_revised.csv\")\n",
    "\n",
    "\n",
    "  for i in range(5):\n",
    "    min_index=result_dist.index(min(result_dist))\n",
    "    max_index=result_dist.index(max(result_dist))\n",
    "    index=max_index\n",
    "    if(param==\"similar\"):\n",
    "      index=min_index\n",
    "\n",
    "    f_name=df1._get_value(index,\"filename\")\n",
    "    dir=\"/content/drive/MyDrive/GTZAN/genres/\"+f_name[0:-10]+\"/\"+f_name\n",
    "    x, sr = librosa.load(dir)\n",
    "    print(f_name)\n",
    "    ipd.Audio(x, rate=sr)\n",
    "    result_dist.pop(index)\n",
    "    file_dir.append(dir)\n",
    "  return file_dir\n",
    "\n",
    "print(\"5 similar songs\")\n",
    "similar=retrive_similar_or_different_songs(\"Chopin.mp3\",\"/content/drive/MyDrive/GTZAN/genres/classical/classical.00000.wav\")\n",
    "print(\"5 different songs\")\n",
    "different=retrive_similar_or_different_songs(\"Chopin.mp3\",\"/content/drive/MyDrive/GTZAN/genres/classical/classical.00000.wav\",\"different\")\n"
   ],
   "metadata": {
    "id": "zP6JTfpdAY3h",
    "colab": {
     "base_uri": "https://localhost:8080/"
    },
    "outputId": "b74458d0-9f4e-4a00-d2f5-61367854a990"
   },
   "execution_count": null,
   "outputs": [
    {
     "output_type": "stream",
     "name": "stdout",
     "text": [
      "5 similar songs\n",
      "(1293,)\n",
      "classical.00000.wav\n",
      "classical.00027.wav\n",
      "jazz.00023.wav\n",
      "classical.00066.wav\n",
      "classical.00086.wav\n",
      "5 different songs\n",
      "(1293,)\n",
      "reggae.00086.wav\n",
      "hiphop.00038.wav\n",
      "pop.00029.wav\n",
      "pop.00085.wav\n",
      "pop.00088.wav\n"
     ]
    }
   ]
  }
 ]
}
